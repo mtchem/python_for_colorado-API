{
 "cells": [
  {
   "cell_type": "markdown",
   "metadata": {},
   "source": [
    "# This notebook will walk through the steps of using the Colorado Information Marketplace (https://data.colorado.gov/) API with python"
   ]
  },
  {
   "cell_type": "markdown",
   "metadata": {},
   "source": [
    "## The first step will be to aquire the API endpoint and user tokens. For this tutorial I will be using the Aquaculture Permittees in Colorado dataset (https://data.colorado.gov/Agriculture/Aquaculture-Permittees-in-Colorado/e6e8-qmi7)\n"
   ]
  },
  {
   "cell_type": "markdown",
   "metadata": {},
   "source": [
    "### Once you have navigated to your database of interest click on the API button\n",
    "![title](images/CIM_1.png)"
   ]
  },
  {
   "cell_type": "markdown",
   "metadata": {},
   "source": [
    "### Click on the blue copy button to copy the entire API Endpoint url, you are going to need that later."
   ]
  },
  {
   "cell_type": "markdown",
   "metadata": {},
   "source": [
    "### To be granted access tokens you need to click on the API docs button and scroll down until you reach the section about tokens\n",
    "![title](images/app_token_1.png)"
   ]
  },
  {
   "cell_type": "markdown",
   "metadata": {},
   "source": [
    "### Click on the \"Sign up for an app token!\" button, which will take you to a sign in page. If you don't have an account, create one now, otherwise just sign in. \n",
    "![title](images/sign_up_1.png)"
   ]
  },
  {
   "cell_type": "markdown",
   "metadata": {},
   "source": [
    "### Once you sign in, you will be asked to create an application.  Fill out the form then click create.\n",
    "![title](images/app_token_3.png)\n",
    "\n",
    "### You should then have both an App Token and a Secret Token\n",
    "![title](images/app_token_2.png)\n"
   ]
  },
  {
   "cell_type": "markdown",
   "metadata": {},
   "source": [
    "## The second step is to retrieve some data using the api and putting it into a pandas dataframe"
   ]
  },
  {
   "cell_type": "code",
   "execution_count": 1,
   "metadata": {
    "collapsed": true
   },
   "outputs": [],
   "source": [
    "# import pandas\n",
    "import pandas as pd"
   ]
  },
  {
   "cell_type": "code",
   "execution_count": 2,
   "metadata": {
    "collapsed": true
   },
   "outputs": [],
   "source": [
    "api_url = 'https://data.colorado.gov/resource/px7t-j3xt.json'\n",
    "App_Token = 'm8x2qjdYgdZO6U2Ib0oHroizE'"
   ]
  },
  {
   "cell_type": "raw",
   "metadata": {},
   "source": [
    "# create these variables using the information found in step one\n",
    "api_url = 'https://data.colorado.gov/xxxxx/xxxxxx.json'\n",
    "App_Token = 'xxxxxxxxxxxxxxxx'"
   ]
  },
  {
   "cell_type": "markdown",
   "metadata": {},
   "source": [
    "### Create urls to request data.  The maximum number of returns for each request is 50,000 records per page.  The *limit* parameter chooses how many records to return per page, and the *offset* parameter determines which record the request will start with.  "
   ]
  },
  {
   "cell_type": "code",
   "execution_count": 3,
   "metadata": {
    "collapsed": false
   },
   "outputs": [],
   "source": [
    "limit = 100 # limits the number of records to 100\n",
    "offset = 20 # starts collecting records at record 20\n",
    "\n",
    "# url_1 creates a url that will query the API and return all the fields (columns) of records 20-120\n",
    "url_1 = api_url + '?' + '$$app_token=' + App_Token + '&$limit=' + str(limit) + '&$offset=' + str(offset)"
   ]
  },
  {
   "cell_type": "markdown",
   "metadata": {},
   "source": [
    "### Pandas has a method that retrieves api data and creates a dataframe"
   ]
  },
  {
   "cell_type": "code",
   "execution_count": 4,
   "metadata": {
    "collapsed": false
   },
   "outputs": [
    {
     "data": {
      "text/html": [
       "<div>\n",
       "<table border=\"1\" class=\"dataframe\">\n",
       "  <thead>\n",
       "    <tr style=\"text-align: right;\">\n",
       "      <th></th>\n",
       "      <th>business_name</th>\n",
       "      <th>city</th>\n",
       "      <th>species</th>\n",
       "      <th>state</th>\n",
       "    </tr>\n",
       "  </thead>\n",
       "  <tbody>\n",
       "    <tr>\n",
       "      <th>0</th>\n",
       "      <td>CRYSTAL SPRINGS TROUT FARM</td>\n",
       "      <td>Hotchkiss</td>\n",
       "      <td>Brook Trout,Brown Trout,Cutbow Trout,Cutthroat...</td>\n",
       "      <td>Colorado</td>\n",
       "    </tr>\n",
       "    <tr>\n",
       "      <th>1</th>\n",
       "      <td>Daily Harvest Aquaponics</td>\n",
       "      <td>Colorado Springs</td>\n",
       "      <td>Tilapia,Koi</td>\n",
       "      <td>Colorado</td>\n",
       "    </tr>\n",
       "    <tr>\n",
       "      <th>2</th>\n",
       "      <td>Electra Sporting Club</td>\n",
       "      <td>Durango</td>\n",
       "      <td>Brook Trout,Brown Trout,Crayfish,Rainbow Trout</td>\n",
       "      <td>Colorado</td>\n",
       "    </tr>\n",
       "    <tr>\n",
       "      <th>3</th>\n",
       "      <td>FOUR SEASONS TROUT FARM</td>\n",
       "      <td>Cedaredge</td>\n",
       "      <td>Black Crappie,Bluegill,Brook Trout,Brown Trout...</td>\n",
       "      <td>Colorado</td>\n",
       "    </tr>\n",
       "    <tr>\n",
       "      <th>4</th>\n",
       "      <td>Frontier Trout Ranch</td>\n",
       "      <td>Saguache</td>\n",
       "      <td>Brook Trout,Brown Trout,Cutbow Trout,Cutthroat...</td>\n",
       "      <td>Colorado</td>\n",
       "    </tr>\n",
       "  </tbody>\n",
       "</table>\n",
       "</div>"
      ],
      "text/plain": [
       "                business_name              city  \\\n",
       "0  CRYSTAL SPRINGS TROUT FARM         Hotchkiss   \n",
       "1    Daily Harvest Aquaponics  Colorado Springs   \n",
       "2       Electra Sporting Club           Durango   \n",
       "3     FOUR SEASONS TROUT FARM         Cedaredge   \n",
       "4        Frontier Trout Ranch          Saguache   \n",
       "\n",
       "                                             species     state  \n",
       "0  Brook Trout,Brown Trout,Cutbow Trout,Cutthroat...  Colorado  \n",
       "1                                        Tilapia,Koi  Colorado  \n",
       "2     Brook Trout,Brown Trout,Crayfish,Rainbow Trout  Colorado  \n",
       "3  Black Crappie,Bluegill,Brook Trout,Brown Trout...  Colorado  \n",
       "4  Brook Trout,Brown Trout,Cutbow Trout,Cutthroat...  Colorado  "
      ]
     },
     "execution_count": 4,
     "metadata": {},
     "output_type": "execute_result"
    }
   ],
   "source": [
    "raw_data = pd.read_json(url_1)\n",
    "raw_data.head()"
   ]
  },
  {
   "cell_type": "markdown",
   "metadata": {},
   "source": [
    "# That's it!  You can now transform the raw data using python and pandas dataframes"
   ]
  },
  {
   "cell_type": "code",
   "execution_count": null,
   "metadata": {
    "collapsed": true
   },
   "outputs": [],
   "source": []
  }
 ],
 "metadata": {
  "anaconda-cloud": {},
  "kernelspec": {
   "display_name": "Python [conda env:py35]",
   "language": "python",
   "name": "conda-env-py35-py"
  },
  "language_info": {
   "codemirror_mode": {
    "name": "ipython",
    "version": 3
   },
   "file_extension": ".py",
   "mimetype": "text/x-python",
   "name": "python",
   "nbconvert_exporter": "python",
   "pygments_lexer": "ipython3",
   "version": "3.5.2"
  }
 },
 "nbformat": 4,
 "nbformat_minor": 2
}
